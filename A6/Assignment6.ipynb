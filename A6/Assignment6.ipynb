{
 "cells": [
  {
   "cell_type": "code",
   "execution_count": 96,
   "metadata": {},
   "outputs": [],
   "source": [
    "import numpy as np\n",
    "import pandas as pd\n",
    "from sklearn.feature_extraction.text import CountVectorizer"
   ]
  },
  {
   "cell_type": "code",
   "execution_count": 97,
   "metadata": {},
   "outputs": [],
   "source": [
    "df=pd.read_csv('C:/Users/bhavy/Downloads/DSL-Task-master/DSL-Task-master/data/DSLCC-v2.0/train-dev/train.txt' ,sep='\\t', names=['Scentence','Language'] )"
   ]
  },
  {
   "cell_type": "code",
   "execution_count": 98,
   "metadata": {},
   "outputs": [],
   "source": [
    "df=df.sample(n=2600)"
   ]
  },
  {
   "cell_type": "code",
   "execution_count": 99,
   "metadata": {},
   "outputs": [],
   "source": [
    "cv= CountVectorizer()"
   ]
  },
  {
   "cell_type": "code",
   "execution_count": 100,
   "metadata": {},
   "outputs": [],
   "source": [
    "df_x=df[\"Scentence\"]\n",
    "df_y = df[\"Language\"]"
   ]
  },
  {
   "cell_type": "code",
   "execution_count": 101,
   "metadata": {},
   "outputs": [],
   "source": [
    "x_traincv=cv.fit_transform(df_x)"
   ]
  },
  {
   "cell_type": "code",
   "execution_count": 102,
   "metadata": {},
   "outputs": [],
   "source": [
    "x=x_traincv.toarray()"
   ]
  },
  {
   "cell_type": "code",
   "execution_count": 103,
   "metadata": {},
   "outputs": [],
   "source": [
    "from sklearn.feature_extraction.text import TfidfTransformer\n",
    "tf_transformer = TfidfTransformer(use_idf=False).fit(x)"
   ]
  },
  {
   "cell_type": "code",
   "execution_count": 104,
   "metadata": {},
   "outputs": [],
   "source": [
    "X_train_tf = tf_transformer.transform(x)"
   ]
  },
  {
   "cell_type": "code",
   "execution_count": 105,
   "metadata": {},
   "outputs": [
    {
     "data": {
      "text/plain": [
       "(2600, 35771)"
      ]
     },
     "execution_count": 105,
     "metadata": {},
     "output_type": "execute_result"
    }
   ],
   "source": [
    "X_train_tf.shape"
   ]
  },
  {
   "cell_type": "code",
   "execution_count": 106,
   "metadata": {},
   "outputs": [],
   "source": [
    "a=X_train_tf.toarray()"
   ]
  },
  {
   "cell_type": "code",
   "execution_count": 107,
   "metadata": {},
   "outputs": [
    {
     "data": {
      "text/plain": [
       "array([[0., 0., 0., ..., 0., 0., 0.],\n",
       "       [0., 0., 0., ..., 0., 0., 0.],\n",
       "       [0., 0., 0., ..., 0., 0., 0.],\n",
       "       ...,\n",
       "       [0., 0., 0., ..., 0., 0., 0.],\n",
       "       [0., 0., 0., ..., 0., 0., 0.],\n",
       "       [0., 0., 0., ..., 0., 0., 0.]])"
      ]
     },
     "execution_count": 107,
     "metadata": {},
     "output_type": "execute_result"
    }
   ],
   "source": [
    "a"
   ]
  },
  {
   "cell_type": "code",
   "execution_count": 108,
   "metadata": {},
   "outputs": [],
   "source": [
    "from sklearn.decomposition import PCA"
   ]
  },
  {
   "cell_type": "code",
   "execution_count": 109,
   "metadata": {},
   "outputs": [],
   "source": [
    "pca= PCA(n_components=2)"
   ]
  },
  {
   "cell_type": "code",
   "execution_count": 110,
   "metadata": {},
   "outputs": [],
   "source": [
    "x_train=pca.fit(a)"
   ]
  },
  {
   "cell_type": "code",
   "execution_count": 111,
   "metadata": {},
   "outputs": [],
   "source": [
    "x_train=pca.transform(a)"
   ]
  },
  {
   "cell_type": "code",
   "execution_count": 112,
   "metadata": {},
   "outputs": [
    {
     "data": {
      "text/plain": [
       "(2600, 2)"
      ]
     },
     "execution_count": 112,
     "metadata": {},
     "output_type": "execute_result"
    }
   ],
   "source": [
    "x_train.shape"
   ]
  },
  {
   "cell_type": "code",
   "execution_count": 113,
   "metadata": {},
   "outputs": [
    {
     "data": {
      "text/plain": [
       "array([[-0.16137767, -0.12731849],\n",
       "       [-0.18420533,  0.37758774],\n",
       "       [ 0.49482063,  0.02289464],\n",
       "       ...,\n",
       "       [-0.15317995,  0.22933794],\n",
       "       [-0.18165382,  0.36885536],\n",
       "       [-0.2251517 , -0.3129316 ]])"
      ]
     },
     "execution_count": 113,
     "metadata": {},
     "output_type": "execute_result"
    }
   ],
   "source": [
    "x_train"
   ]
  },
  {
   "cell_type": "code",
   "execution_count": 114,
   "metadata": {},
   "outputs": [],
   "source": [
    "y_train=df[\"Language\"]"
   ]
  },
  {
   "cell_type": "code",
   "execution_count": 115,
   "metadata": {},
   "outputs": [
    {
     "data": {
      "text/plain": [
       "190028       sk\n",
       "1945         bg\n",
       "65155     es-AR\n",
       "139929       my\n",
       "81901     es-ES\n",
       "111770       id\n",
       "196441       sk\n",
       "212661       sr\n",
       "91238        hr\n",
       "209159       sr\n",
       "104584       id\n",
       "194594       sk\n",
       "6502         bg\n",
       "230043       xx\n",
       "114983       id\n",
       "195625       sk\n",
       "33433        bs\n",
       "27714        bs\n",
       "89023        hr\n",
       "222819       xx\n",
       "91549        hr\n",
       "229268       xx\n",
       "139589       my\n",
       "108150       id\n",
       "101438       hr\n",
       "105802       id\n",
       "53696     es-AR\n",
       "51026     es-AR\n",
       "129116       mk\n",
       "59514     es-AR\n",
       "          ...  \n",
       "79788     es-ES\n",
       "34288        cz\n",
       "223991       xx\n",
       "191673       sk\n",
       "58269     es-AR\n",
       "165533    pt-BR\n",
       "94054        hr\n",
       "66558     es-AR\n",
       "3154         bg\n",
       "194286       sk\n",
       "229394       xx\n",
       "99472        hr\n",
       "52904     es-AR\n",
       "193625       sk\n",
       "59508     es-AR\n",
       "62335     es-AR\n",
       "71345     es-ES\n",
       "189881       sk\n",
       "97840        hr\n",
       "123649       mk\n",
       "134436       mk\n",
       "8347         bg\n",
       "4169         bg\n",
       "53020     es-AR\n",
       "52483     es-AR\n",
       "189685       sk\n",
       "102171       hr\n",
       "11154        bg\n",
       "1767         bg\n",
       "92791        hr\n",
       "Name: Language, Length: 2600, dtype: object"
      ]
     },
     "execution_count": 115,
     "metadata": {},
     "output_type": "execute_result"
    }
   ],
   "source": [
    "y_train"
   ]
  },
  {
   "cell_type": "code",
   "execution_count": 116,
   "metadata": {},
   "outputs": [],
   "source": [
    "import matplotlib.pyplot as plt"
   ]
  },
  {
   "cell_type": "code",
   "execution_count": 117,
   "metadata": {},
   "outputs": [
    {
     "data": {
      "text/plain": [
       "[<matplotlib.lines.Line2D at 0x1e108cbab70>,\n",
       " <matplotlib.lines.Line2D at 0x1e10a4b30b8>]"
      ]
     },
     "execution_count": 117,
     "metadata": {},
     "output_type": "execute_result"
    },
    {
     "data": {
      "image/png": "[encoded data removed]",
      "text/plain": [
       "<Figure size 432x288 with 1 Axes>"
      ]
     },
     "metadata": {},
     "output_type": "display_data"
    }
   ],
   "source": [
    "plt.plot(x_train,y_train)"
   ]
  },
  {
   "cell_type": "code",
   "execution_count": 118,
   "metadata": {},
   "outputs": [
    {
     "data": {
      "text/plain": [
       "array([[-0.16137767, -0.12731849],\n",
       "       [-0.18420533,  0.37758774],\n",
       "       [ 0.49482063,  0.02289464],\n",
       "       ...,\n",
       "       [-0.15317995,  0.22933794],\n",
       "       [-0.18165382,  0.36885536],\n",
       "       [-0.2251517 , -0.3129316 ]])"
      ]
     },
     "execution_count": 118,
     "metadata": {},
     "output_type": "execute_result"
    }
   ],
   "source": [
    "x_train"
   ]
  },
  {
   "cell_type": "code",
   "execution_count": 119,
   "metadata": {},
   "outputs": [
    {
     "data": {
      "text/plain": [
       "190028       sk\n",
       "1945         bg\n",
       "65155     es-AR\n",
       "139929       my\n",
       "81901     es-ES\n",
       "111770       id\n",
       "196441       sk\n",
       "212661       sr\n",
       "91238        hr\n",
       "209159       sr\n",
       "104584       id\n",
       "194594       sk\n",
       "6502         bg\n",
       "230043       xx\n",
       "114983       id\n",
       "195625       sk\n",
       "33433        bs\n",
       "27714        bs\n",
       "89023        hr\n",
       "222819       xx\n",
       "91549        hr\n",
       "229268       xx\n",
       "139589       my\n",
       "108150       id\n",
       "101438       hr\n",
       "105802       id\n",
       "53696     es-AR\n",
       "51026     es-AR\n",
       "129116       mk\n",
       "59514     es-AR\n",
       "          ...  \n",
       "79788     es-ES\n",
       "34288        cz\n",
       "223991       xx\n",
       "191673       sk\n",
       "58269     es-AR\n",
       "165533    pt-BR\n",
       "94054        hr\n",
       "66558     es-AR\n",
       "3154         bg\n",
       "194286       sk\n",
       "229394       xx\n",
       "99472        hr\n",
       "52904     es-AR\n",
       "193625       sk\n",
       "59508     es-AR\n",
       "62335     es-AR\n",
       "71345     es-ES\n",
       "189881       sk\n",
       "97840        hr\n",
       "123649       mk\n",
       "134436       mk\n",
       "8347         bg\n",
       "4169         bg\n",
       "53020     es-AR\n",
       "52483     es-AR\n",
       "189685       sk\n",
       "102171       hr\n",
       "11154        bg\n",
       "1767         bg\n",
       "92791        hr\n",
       "Name: Language, Length: 2600, dtype: object"
      ]
     },
     "execution_count": 119,
     "metadata": {},
     "output_type": "execute_result"
    }
   ],
   "source": [
    "y_train"
   ]
  },
  {
   "cell_type": "code",
   "execution_count": 120,
   "metadata": {},
   "outputs": [
    {
     "data": {
      "image/png": "[encoded data removed]",
      "text/plain": [
       "<Figure size 432x288 with 1 Axes>"
      ]
     },
     "metadata": {},
     "output_type": "display_data"
    }
   ],
   "source": [
    "plt.scatter(x_train[:,0], y_train, c=x_train[:,1], s=500)\n",
    "#plt.green()\n",
    "plt.show()"
   ]
  },
  {
   "cell_type": "code",
   "execution_count": 121,
   "metadata": {},
   "outputs": [
    {
     "data": {
      "image/png": "[encoded data removed]",
      "text/plain": [
       "<Figure size 432x288 with 1 Axes>"
      ]
     },
     "metadata": {},
     "output_type": "display_data"
    }
   ],
   "source": [
    "N = 50\n",
    "x = np.random.rand(N)\n",
    "y = np.random.rand(N)\n",
    "colors = np.random.rand(N)\n",
    "area = (30 * np.random.rand(N))**2  # 0 to 15 point radii\n",
    "\n",
    "plt.scatter(x_train[:,0], y_train, c=x_train[:,1], s=area, alpha=0.5)\n",
    "plt.show()"
   ]
  },
  {
   "cell_type": "code",
   "execution_count": 122,
   "metadata": {},
   "outputs": [],
   "source": [
    "from sklearn.feature_selection import SelectKBest, chi2\n",
    "from sklearn.datasets import load_iris\n",
    "iris = load_iris()\n",
    "x_train, y_train = iris.data, iris.target# Select 3 top features\n",
    "selection = SelectKBest(chi2, k=3)"
   ]
  },
  {
   "cell_type": "code",
   "execution_count": 123,
   "metadata": {},
   "outputs": [
    {
     "data": {
      "text/plain": [
       "array([[5.1, 1.4, 0.2],\n",
       "       [4.9, 1.4, 0.2],\n",
       "       [4.7, 1.3, 0.2],\n",
       "       [4.6, 1.5, 0.2],\n",
       "       [5. , 1.4, 0.2],\n",
       "       [5.4, 1.7, 0.4],\n",
       "       [4.6, 1.4, 0.3],\n",
       "       [5. , 1.5, 0.2],\n",
       "       [4.4, 1.4, 0.2],\n",
       "       [4.9, 1.5, 0.1],\n",
       "       [5.4, 1.5, 0.2],\n",
       "       [4.8, 1.6, 0.2],\n",
       "       [4.8, 1.4, 0.1],\n",
       "       [4.3, 1.1, 0.1],\n",
       "       [5.8, 1.2, 0.2],\n",
       "       [5.7, 1.5, 0.4],\n",
       "       [5.4, 1.3, 0.4],\n",
       "       [5.1, 1.4, 0.3],\n",
       "       [5.7, 1.7, 0.3],\n",
       "       [5.1, 1.5, 0.3],\n",
       "       [5.4, 1.7, 0.2],\n",
       "       [5.1, 1.5, 0.4],\n",
       "       [4.6, 1. , 0.2],\n",
       "       [5.1, 1.7, 0.5],\n",
       "       [4.8, 1.9, 0.2],\n",
       "       [5. , 1.6, 0.2],\n",
       "       [5. , 1.6, 0.4],\n",
       "       [5.2, 1.5, 0.2],\n",
       "       [5.2, 1.4, 0.2],\n",
       "       [4.7, 1.6, 0.2],\n",
       "       [4.8, 1.6, 0.2],\n",
       "       [5.4, 1.5, 0.4],\n",
       "       [5.2, 1.5, 0.1],\n",
       "       [5.5, 1.4, 0.2],\n",
       "       [4.9, 1.5, 0.1],\n",
       "       [5. , 1.2, 0.2],\n",
       "       [5.5, 1.3, 0.2],\n",
       "       [4.9, 1.5, 0.1],\n",
       "       [4.4, 1.3, 0.2],\n",
       "       [5.1, 1.5, 0.2],\n",
       "       [5. , 1.3, 0.3],\n",
       "       [4.5, 1.3, 0.3],\n",
       "       [4.4, 1.3, 0.2],\n",
       "       [5. , 1.6, 0.6],\n",
       "       [5.1, 1.9, 0.4],\n",
       "       [4.8, 1.4, 0.3],\n",
       "       [5.1, 1.6, 0.2],\n",
       "       [4.6, 1.4, 0.2],\n",
       "       [5.3, 1.5, 0.2],\n",
       "       [5. , 1.4, 0.2],\n",
       "       [7. , 4.7, 1.4],\n",
       "       [6.4, 4.5, 1.5],\n",
       "       [6.9, 4.9, 1.5],\n",
       "       [5.5, 4. , 1.3],\n",
       "       [6.5, 4.6, 1.5],\n",
       "       [5.7, 4.5, 1.3],\n",
       "       [6.3, 4.7, 1.6],\n",
       "       [4.9, 3.3, 1. ],\n",
       "       [6.6, 4.6, 1.3],\n",
       "       [5.2, 3.9, 1.4],\n",
       "       [5. , 3.5, 1. ],\n",
       "       [5.9, 4.2, 1.5],\n",
       "       [6. , 4. , 1. ],\n",
       "       [6.1, 4.7, 1.4],\n",
       "       [5.6, 3.6, 1.3],\n",
       "       [6.7, 4.4, 1.4],\n",
       "       [5.6, 4.5, 1.5],\n",
       "       [5.8, 4.1, 1. ],\n",
       "       [6.2, 4.5, 1.5],\n",
       "       [5.6, 3.9, 1.1],\n",
       "       [5.9, 4.8, 1.8],\n",
       "       [6.1, 4. , 1.3],\n",
       "       [6.3, 4.9, 1.5],\n",
       "       [6.1, 4.7, 1.2],\n",
       "       [6.4, 4.3, 1.3],\n",
       "       [6.6, 4.4, 1.4],\n",
       "       [6.8, 4.8, 1.4],\n",
       "       [6.7, 5. , 1.7],\n",
       "       [6. , 4.5, 1.5],\n",
       "       [5.7, 3.5, 1. ],\n",
       "       [5.5, 3.8, 1.1],\n",
       "       [5.5, 3.7, 1. ],\n",
       "       [5.8, 3.9, 1.2],\n",
       "       [6. , 5.1, 1.6],\n",
       "       [5.4, 4.5, 1.5],\n",
       "       [6. , 4.5, 1.6],\n",
       "       [6.7, 4.7, 1.5],\n",
       "       [6.3, 4.4, 1.3],\n",
       "       [5.6, 4.1, 1.3],\n",
       "       [5.5, 4. , 1.3],\n",
       "       [5.5, 4.4, 1.2],\n",
       "       [6.1, 4.6, 1.4],\n",
       "       [5.8, 4. , 1.2],\n",
       "       [5. , 3.3, 1. ],\n",
       "       [5.6, 4.2, 1.3],\n",
       "       [5.7, 4.2, 1.2],\n",
       "       [5.7, 4.2, 1.3],\n",
       "       [6.2, 4.3, 1.3],\n",
       "       [5.1, 3. , 1.1],\n",
       "       [5.7, 4.1, 1.3],\n",
       "       [6.3, 6. , 2.5],\n",
       "       [5.8, 5.1, 1.9],\n",
       "       [7.1, 5.9, 2.1],\n",
       "       [6.3, 5.6, 1.8],\n",
       "       [6.5, 5.8, 2.2],\n",
       "       [7.6, 6.6, 2.1],\n",
       "       [4.9, 4.5, 1.7],\n",
       "       [7.3, 6.3, 1.8],\n",
       "       [6.7, 5.8, 1.8],\n",
       "       [7.2, 6.1, 2.5],\n",
       "       [6.5, 5.1, 2. ],\n",
       "       [6.4, 5.3, 1.9],\n",
       "       [6.8, 5.5, 2.1],\n",
       "       [5.7, 5. , 2. ],\n",
       "       [5.8, 5.1, 2.4],\n",
       "       [6.4, 5.3, 2.3],\n",
       "       [6.5, 5.5, 1.8],\n",
       "       [7.7, 6.7, 2.2],\n",
       "       [7.7, 6.9, 2.3],\n",
       "       [6. , 5. , 1.5],\n",
       "       [6.9, 5.7, 2.3],\n",
       "       [5.6, 4.9, 2. ],\n",
       "       [7.7, 6.7, 2. ],\n",
       "       [6.3, 4.9, 1.8],\n",
       "       [6.7, 5.7, 2.1],\n",
       "       [7.2, 6. , 1.8],\n",
       "       [6.2, 4.8, 1.8],\n",
       "       [6.1, 4.9, 1.8],\n",
       "       [6.4, 5.6, 2.1],\n",
       "       [7.2, 5.8, 1.6],\n",
       "       [7.4, 6.1, 1.9],\n",
       "       [7.9, 6.4, 2. ],\n",
       "       [6.4, 5.6, 2.2],\n",
       "       [6.3, 5.1, 1.5],\n",
       "       [6.1, 5.6, 1.4],\n",
       "       [7.7, 6.1, 2.3],\n",
       "       [6.3, 5.6, 2.4],\n",
       "       [6.4, 5.5, 1.8],\n",
       "       [6. , 4.8, 1.8],\n",
       "       [6.9, 5.4, 2.1],\n",
       "       [6.7, 5.6, 2.4],\n",
       "       [6.9, 5.1, 2.3],\n",
       "       [5.8, 5.1, 1.9],\n",
       "       [6.8, 5.9, 2.3],\n",
       "       [6.7, 5.7, 2.5],\n",
       "       [6.7, 5.2, 2.3],\n",
       "       [6.3, 5. , 1.9],\n",
       "       [6.5, 5.2, 2. ],\n",
       "       [6.2, 5.4, 2.3],\n",
       "       [5.9, 5.1, 1.8]])"
      ]
     },
     "execution_count": 123,
     "metadata": {},
     "output_type": "execute_result"
    }
   ],
   "source": [
    "selection.fit_transform(x_train, y_train)"
   ]
  },
  {
   "cell_type": "code",
   "execution_count": 124,
   "metadata": {},
   "outputs": [],
   "source": [
    "dft=pd.read_csv('C:/Users/bhavy/Downloads/DSL-Task-master/DSL-Task-master/data/DSLCC-v2.0/test/test.txt' ,sep='\\t', names=['Scentence','Language'] )"
   ]
  },
  {
   "cell_type": "code",
   "execution_count": 125,
   "metadata": {},
   "outputs": [],
   "source": [
    "dft=df.sample(n=2600)\n"
   ]
  },
  {
   "cell_type": "code",
   "execution_count": 126,
   "metadata": {},
   "outputs": [
    {
     "data": {
      "text/html": [
       "<div>\n",
       "<style scoped>\n",
       "    .dataframe tbody tr th:only-of-type {\n",
       "        vertical-align: middle;\n",
       "    }\n",
       "\n",
       "    .dataframe tbody tr th {\n",
       "        vertical-align: top;\n",
       "    }\n",
       "\n",
       "    .dataframe thead th {\n",
       "        text-align: right;\n",
       "    }\n",
       "</style>\n",
       "<table border=\"1\" class=\"dataframe\">\n",
       "  <thead>\n",
       "    <tr style=\"text-align: right;\">\n",
       "      <th></th>\n",
       "      <th>Scentence</th>\n",
       "      <th>Language</th>\n",
       "    </tr>\n",
       "  </thead>\n",
       "  <tbody>\n",
       "    <tr>\n",
       "      <th>99074</th>\n",
       "      <td>Puniti će se mađarska i norveška blagajna na š...</td>\n",
       "      <td>hr</td>\n",
       "    </tr>\n",
       "    <tr>\n",
       "      <th>155974</th>\n",
       "      <td>Já a Copa do Brasil, prioridade tricolor no pr...</td>\n",
       "      <td>pt-BR</td>\n",
       "    </tr>\n",
       "    <tr>\n",
       "      <th>128712</th>\n",
       "      <td>(Од лево) палестинскиот лекар со бугарско држа...</td>\n",
       "      <td>mk</td>\n",
       "    </tr>\n",
       "    <tr>\n",
       "      <th>182574</th>\n",
       "      <td>Porém, esta série inexplicável de erros, sempr...</td>\n",
       "      <td>pt-PT</td>\n",
       "    </tr>\n",
       "    <tr>\n",
       "      <th>59875</th>\n",
       "      <td>A sólo unas semanas del Salón de Ginebra 2011,...</td>\n",
       "      <td>es-AR</td>\n",
       "    </tr>\n",
       "    <tr>\n",
       "      <th>123999</th>\n",
       "      <td>Милошевиќ умре на 11 март, ден пред денот на к...</td>\n",
       "      <td>mk</td>\n",
       "    </tr>\n",
       "    <tr>\n",
       "      <th>170636</th>\n",
       "      <td>Francisco Rodrigues Santos, da Associação de E...</td>\n",
       "      <td>pt-PT</td>\n",
       "    </tr>\n",
       "    <tr>\n",
       "      <th>66511</th>\n",
       "      <td>Y en sintonía con los instrumentos contracícli...</td>\n",
       "      <td>es-AR</td>\n",
       "    </tr>\n",
       "    <tr>\n",
       "      <th>10735</th>\n",
       "      <td>По случая с лекарите в Горна Оряховица Цветано...</td>\n",
       "      <td>bg</td>\n",
       "    </tr>\n",
       "    <tr>\n",
       "      <th>191349</th>\n",
       "      <td>Keď budú existovať dve strany, v istom zmysle ...</td>\n",
       "      <td>sk</td>\n",
       "    </tr>\n",
       "    <tr>\n",
       "      <th>11348</th>\n",
       "      <td>Румъния е на последно място в ЕС по размер на ...</td>\n",
       "      <td>bg</td>\n",
       "    </tr>\n",
       "    <tr>\n",
       "      <th>173279</th>\n",
       "      <td>Esta ronda de audições decorre depois do Presi...</td>\n",
       "      <td>pt-PT</td>\n",
       "    </tr>\n",
       "    <tr>\n",
       "      <th>58923</th>\n",
       "      <td>Racanelli pidió la libertad de ambos, pero le ...</td>\n",
       "      <td>es-AR</td>\n",
       "    </tr>\n",
       "    <tr>\n",
       "      <th>165737</th>\n",
       "      <td>Salvador, 01 de março de 2011 Repercussão de s...</td>\n",
       "      <td>pt-BR</td>\n",
       "    </tr>\n",
       "    <tr>\n",
       "      <th>149757</th>\n",
       "      <td>Beliau berkata lebih mudah untuk mengawal golo...</td>\n",
       "      <td>my</td>\n",
       "    </tr>\n",
       "    <tr>\n",
       "      <th>112616</th>\n",
       "      <td>Puncaknya, JC bertugas menggelar kongres pada ...</td>\n",
       "      <td>id</td>\n",
       "    </tr>\n",
       "    <tr>\n",
       "      <th>92963</th>\n",
       "      <td>Dok smo punili krmeno skladište vodom, naš str...</td>\n",
       "      <td>hr</td>\n",
       "    </tr>\n",
       "    <tr>\n",
       "      <th>196758</th>\n",
       "      <td>Banka však nebije na poplach a argumentuje, že...</td>\n",
       "      <td>sk</td>\n",
       "    </tr>\n",
       "    <tr>\n",
       "      <th>228974</th>\n",
       "      <td>Iz suhoparne formulacije referendumskega vpraš...</td>\n",
       "      <td>xx</td>\n",
       "    </tr>\n",
       "    <tr>\n",
       "      <th>45634</th>\n",
       "      <td>Je neuvěřitelné jak si všichni lidi přejí aby ...</td>\n",
       "      <td>cz</td>\n",
       "    </tr>\n",
       "    <tr>\n",
       "      <th>105098</th>\n",
       "      <td>Terlepas dari siapa yang menyebarkan, yang jel...</td>\n",
       "      <td>id</td>\n",
       "    </tr>\n",
       "    <tr>\n",
       "      <th>137007</th>\n",
       "      <td>Но, само еден ден по потпишувањето на меморанд...</td>\n",
       "      <td>mk</td>\n",
       "    </tr>\n",
       "    <tr>\n",
       "      <th>164622</th>\n",
       "      <td>Unidade Modular do Beira Rio retoma atendiment...</td>\n",
       "      <td>pt-BR</td>\n",
       "    </tr>\n",
       "    <tr>\n",
       "      <th>114109</th>\n",
       "      <td>Puluhan tenaga bakti Pemadam Kebakaran Krueng ...</td>\n",
       "      <td>id</td>\n",
       "    </tr>\n",
       "    <tr>\n",
       "      <th>11564</th>\n",
       "      <td>Уругвайците обаче не само участват, но и отива...</td>\n",
       "      <td>bg</td>\n",
       "    </tr>\n",
       "    <tr>\n",
       "      <th>32776</th>\n",
       "      <td>Programi za pripremnost u slučaju vanrednih st...</td>\n",
       "      <td>bs</td>\n",
       "    </tr>\n",
       "    <tr>\n",
       "      <th>10151</th>\n",
       "      <td>Според съобщение на Ройтерс, Лимай е заявил по...</td>\n",
       "      <td>bg</td>\n",
       "    </tr>\n",
       "    <tr>\n",
       "      <th>188490</th>\n",
       "      <td>Roky trvajúce rokovania na expertnej úrovni o ...</td>\n",
       "      <td>sk</td>\n",
       "    </tr>\n",
       "    <tr>\n",
       "      <th>98662</th>\n",
       "      <td>FOTO Prometna nesreća u Zadru U petak oko 8.30...</td>\n",
       "      <td>hr</td>\n",
       "    </tr>\n",
       "    <tr>\n",
       "      <th>139203</th>\n",
       "      <td>Lemak di dalam avokado dipercayai dapat melemb...</td>\n",
       "      <td>my</td>\n",
       "    </tr>\n",
       "    <tr>\n",
       "      <th>...</th>\n",
       "      <td>...</td>\n",
       "      <td>...</td>\n",
       "    </tr>\n",
       "    <tr>\n",
       "      <th>96013</th>\n",
       "      <td>Terete ga da je 2007. godine od Eduarda Suarez...</td>\n",
       "      <td>hr</td>\n",
       "    </tr>\n",
       "    <tr>\n",
       "      <th>125873</th>\n",
       "      <td>Владата беше особено задоволна со намалувањето...</td>\n",
       "      <td>mk</td>\n",
       "    </tr>\n",
       "    <tr>\n",
       "      <th>109436</th>\n",
       "      <td>Dan kemudian, sebelum SSJ 100, adalah Heli Pum...</td>\n",
       "      <td>id</td>\n",
       "    </tr>\n",
       "    <tr>\n",
       "      <th>47526</th>\n",
       "      <td>V silniční dopravě u nás podle ministerstva do...</td>\n",
       "      <td>cz</td>\n",
       "    </tr>\n",
       "    <tr>\n",
       "      <th>20025</th>\n",
       "      <td>Njegov sugrađanin legendarni, Emir Balić je u ...</td>\n",
       "      <td>bs</td>\n",
       "    </tr>\n",
       "    <tr>\n",
       "      <th>83056</th>\n",
       "      <td>Tras una cena elaborada y servida en la antaño...</td>\n",
       "      <td>es-ES</td>\n",
       "    </tr>\n",
       "    <tr>\n",
       "      <th>83068</th>\n",
       "      <td>'Pánico en el túnel' se lleva el primer puesto...</td>\n",
       "      <td>es-ES</td>\n",
       "    </tr>\n",
       "    <tr>\n",
       "      <th>199016</th>\n",
       "      <td>Ak prídu domov z práce, tak určite ich prvorad...</td>\n",
       "      <td>sk</td>\n",
       "    </tr>\n",
       "    <tr>\n",
       "      <th>212429</th>\n",
       "      <td>On je takođe naglasio da njegova administracij...</td>\n",
       "      <td>sr</td>\n",
       "    </tr>\n",
       "    <tr>\n",
       "      <th>84266</th>\n",
       "      <td>Por supuesto. Yo no quiero que las personas me...</td>\n",
       "      <td>es-ES</td>\n",
       "    </tr>\n",
       "    <tr>\n",
       "      <th>192520</th>\n",
       "      <td>Zatiaľ čo doterajšia snaha vlády o minimálne b...</td>\n",
       "      <td>sk</td>\n",
       "    </tr>\n",
       "    <tr>\n",
       "      <th>123633</th>\n",
       "      <td>Според Кан, истрагата ќе „отвори некои врати, ...</td>\n",
       "      <td>mk</td>\n",
       "    </tr>\n",
       "    <tr>\n",
       "      <th>68633</th>\n",
       "      <td>La frecuencia es otra de las asignaturas calif...</td>\n",
       "      <td>es-ES</td>\n",
       "    </tr>\n",
       "    <tr>\n",
       "      <th>52079</th>\n",
       "      <td>Sábado 7 de enero. Mataron en Hurlingham al pr...</td>\n",
       "      <td>es-AR</td>\n",
       "    </tr>\n",
       "    <tr>\n",
       "      <th>74322</th>\n",
       "      <td>«Afortunadamente y gracias a Dios, Severiano e...</td>\n",
       "      <td>es-ES</td>\n",
       "    </tr>\n",
       "    <tr>\n",
       "      <th>177765</th>\n",
       "      <td>A taxa a três meses avança 0,005 pontos, para ...</td>\n",
       "      <td>pt-PT</td>\n",
       "    </tr>\n",
       "    <tr>\n",
       "      <th>8386</th>\n",
       "      <td>Йосипович бе придружаван от президента на РС Р...</td>\n",
       "      <td>bg</td>\n",
       "    </tr>\n",
       "    <tr>\n",
       "      <th>224501</th>\n",
       "      <td>Čeprav so domači ljubitelji rokometa v premajh...</td>\n",
       "      <td>xx</td>\n",
       "    </tr>\n",
       "    <tr>\n",
       "      <th>104491</th>\n",
       "      <td>Hingga tahun 2007 ditutup, ternyata masih ada ...</td>\n",
       "      <td>id</td>\n",
       "    </tr>\n",
       "    <tr>\n",
       "      <th>83788</th>\n",
       "      <td>El primer eje de la «Acción Joven» incidirá en...</td>\n",
       "      <td>es-ES</td>\n",
       "    </tr>\n",
       "    <tr>\n",
       "      <th>116056</th>\n",
       "      <td>Sekitar dua bulan lagi, atau kalau tidak ada p...</td>\n",
       "      <td>id</td>\n",
       "    </tr>\n",
       "    <tr>\n",
       "      <th>47608</th>\n",
       "      <td>Tyto úkoly přechází na bedra společnosti IT Pa...</td>\n",
       "      <td>cz</td>\n",
       "    </tr>\n",
       "    <tr>\n",
       "      <th>119859</th>\n",
       "      <td>Selain Van der Vaart, Schalke disebut sedang m...</td>\n",
       "      <td>id</td>\n",
       "    </tr>\n",
       "    <tr>\n",
       "      <th>49223</th>\n",
       "      <td>Některé kanceláře raději volí běžné linky Třeb...</td>\n",
       "      <td>cz</td>\n",
       "    </tr>\n",
       "    <tr>\n",
       "      <th>60793</th>\n",
       "      <td>En su presente hay bastante de aquel nene en e...</td>\n",
       "      <td>es-AR</td>\n",
       "    </tr>\n",
       "    <tr>\n",
       "      <th>149026</th>\n",
       "      <td>Lelaki berusia 27 tahun itu ditahan pada jam 1...</td>\n",
       "      <td>my</td>\n",
       "    </tr>\n",
       "    <tr>\n",
       "      <th>16725</th>\n",
       "      <td>После използва връзките си в МВР, за да му орг...</td>\n",
       "      <td>bg</td>\n",
       "    </tr>\n",
       "    <tr>\n",
       "      <th>95324</th>\n",
       "      <td>2007 O idealiziranom antifašizmu Zahvaljujem g...</td>\n",
       "      <td>hr</td>\n",
       "    </tr>\n",
       "    <tr>\n",
       "      <th>170044</th>\n",
       "      <td>Miguel Praia gosta particularmente deste traça...</td>\n",
       "      <td>pt-PT</td>\n",
       "    </tr>\n",
       "    <tr>\n",
       "      <th>78823</th>\n",
       "      <td>A pesar de todo, Basagoiti aseguró en declarac...</td>\n",
       "      <td>es-ES</td>\n",
       "    </tr>\n",
       "  </tbody>\n",
       "</table>\n",
       "<p>2600 rows × 2 columns</p>\n",
       "</div>"
      ],
      "text/plain": [
       "                                                Scentence Language\n",
       "99074   Puniti će se mađarska i norveška blagajna na š...       hr\n",
       "155974  Já a Copa do Brasil, prioridade tricolor no pr...    pt-BR\n",
       "128712  (Од лево) палестинскиот лекар со бугарско држа...       mk\n",
       "182574  Porém, esta série inexplicável de erros, sempr...    pt-PT\n",
       "59875   A sólo unas semanas del Salón de Ginebra 2011,...    es-AR\n",
       "123999  Милошевиќ умре на 11 март, ден пред денот на к...       mk\n",
       "170636  Francisco Rodrigues Santos, da Associação de E...    pt-PT\n",
       "66511   Y en sintonía con los instrumentos contracícli...    es-AR\n",
       "10735   По случая с лекарите в Горна Оряховица Цветано...       bg\n",
       "191349  Keď budú existovať dve strany, v istom zmysle ...       sk\n",
       "11348   Румъния е на последно място в ЕС по размер на ...       bg\n",
       "173279  Esta ronda de audições decorre depois do Presi...    pt-PT\n",
       "58923   Racanelli pidió la libertad de ambos, pero le ...    es-AR\n",
       "165737  Salvador, 01 de março de 2011 Repercussão de s...    pt-BR\n",
       "149757  Beliau berkata lebih mudah untuk mengawal golo...       my\n",
       "112616  Puncaknya, JC bertugas menggelar kongres pada ...       id\n",
       "92963   Dok smo punili krmeno skladište vodom, naš str...       hr\n",
       "196758  Banka však nebije na poplach a argumentuje, že...       sk\n",
       "228974  Iz suhoparne formulacije referendumskega vpraš...       xx\n",
       "45634   Je neuvěřitelné jak si všichni lidi přejí aby ...       cz\n",
       "105098  Terlepas dari siapa yang menyebarkan, yang jel...       id\n",
       "137007  Но, само еден ден по потпишувањето на меморанд...       mk\n",
       "164622  Unidade Modular do Beira Rio retoma atendiment...    pt-BR\n",
       "114109  Puluhan tenaga bakti Pemadam Kebakaran Krueng ...       id\n",
       "11564   Уругвайците обаче не само участват, но и отива...       bg\n",
       "32776   Programi za pripremnost u slučaju vanrednih st...       bs\n",
       "10151   Според съобщение на Ройтерс, Лимай е заявил по...       bg\n",
       "188490  Roky trvajúce rokovania na expertnej úrovni o ...       sk\n",
       "98662   FOTO Prometna nesreća u Zadru U petak oko 8.30...       hr\n",
       "139203  Lemak di dalam avokado dipercayai dapat melemb...       my\n",
       "...                                                   ...      ...\n",
       "96013   Terete ga da je 2007. godine od Eduarda Suarez...       hr\n",
       "125873  Владата беше особено задоволна со намалувањето...       mk\n",
       "109436  Dan kemudian, sebelum SSJ 100, adalah Heli Pum...       id\n",
       "47526   V silniční dopravě u nás podle ministerstva do...       cz\n",
       "20025   Njegov sugrađanin legendarni, Emir Balić je u ...       bs\n",
       "83056   Tras una cena elaborada y servida en la antaño...    es-ES\n",
       "83068   'Pánico en el túnel' se lleva el primer puesto...    es-ES\n",
       "199016  Ak prídu domov z práce, tak určite ich prvorad...       sk\n",
       "212429  On je takođe naglasio da njegova administracij...       sr\n",
       "84266   Por supuesto. Yo no quiero que las personas me...    es-ES\n",
       "192520  Zatiaľ čo doterajšia snaha vlády o minimálne b...       sk\n",
       "123633  Според Кан, истрагата ќе „отвори некои врати, ...       mk\n",
       "68633   La frecuencia es otra de las asignaturas calif...    es-ES\n",
       "52079   Sábado 7 de enero. Mataron en Hurlingham al pr...    es-AR\n",
       "74322   «Afortunadamente y gracias a Dios, Severiano e...    es-ES\n",
       "177765  A taxa a três meses avança 0,005 pontos, para ...    pt-PT\n",
       "8386    Йосипович бе придружаван от президента на РС Р...       bg\n",
       "224501  Čeprav so domači ljubitelji rokometa v premajh...       xx\n",
       "104491  Hingga tahun 2007 ditutup, ternyata masih ada ...       id\n",
       "83788   El primer eje de la «Acción Joven» incidirá en...    es-ES\n",
       "116056  Sekitar dua bulan lagi, atau kalau tidak ada p...       id\n",
       "47608   Tyto úkoly přechází na bedra společnosti IT Pa...       cz\n",
       "119859  Selain Van der Vaart, Schalke disebut sedang m...       id\n",
       "49223   Některé kanceláře raději volí běžné linky Třeb...       cz\n",
       "60793   En su presente hay bastante de aquel nene en e...    es-AR\n",
       "149026  Lelaki berusia 27 tahun itu ditahan pada jam 1...       my\n",
       "16725   После използва връзките си в МВР, за да му орг...       bg\n",
       "95324   2007 O idealiziranom antifašizmu Zahvaljujem g...       hr\n",
       "170044  Miguel Praia gosta particularmente deste traça...    pt-PT\n",
       "78823   A pesar de todo, Basagoiti aseguró en declarac...    es-ES\n",
       "\n",
       "[2600 rows x 2 columns]"
      ]
     },
     "execution_count": 126,
     "metadata": {},
     "output_type": "execute_result"
    }
   ],
   "source": [
    "dft"
   ]
  },
  {
   "cell_type": "code",
   "execution_count": 127,
   "metadata": {},
   "outputs": [],
   "source": [
    "dft_x=dft[\"Scentence\"]\n",
    "dft_y = dft[\"Language\"]"
   ]
  },
  {
   "cell_type": "code",
   "execution_count": 128,
   "metadata": {},
   "outputs": [
    {
     "data": {
      "text/plain": [
       "99074     Puniti će se mađarska i norveška blagajna na š...\n",
       "155974    Já a Copa do Brasil, prioridade tricolor no pr...\n",
       "128712    (Од лево) палестинскиот лекар со бугарско држа...\n",
       "182574    Porém, esta série inexplicável de erros, sempr...\n",
       "59875     A sólo unas semanas del Salón de Ginebra 2011,...\n",
       "123999    Милошевиќ умре на 11 март, ден пред денот на к...\n",
       "170636    Francisco Rodrigues Santos, da Associação de E...\n",
       "66511     Y en sintonía con los instrumentos contracícli...\n",
       "10735     По случая с лекарите в Горна Оряховица Цветано...\n",
       "191349    Keď budú existovať dve strany, v istom zmysle ...\n",
       "11348     Румъния е на последно място в ЕС по размер на ...\n",
       "173279    Esta ronda de audições decorre depois do Presi...\n",
       "58923     Racanelli pidió la libertad de ambos, pero le ...\n",
       "165737    Salvador, 01 de março de 2011 Repercussão de s...\n",
       "149757    Beliau berkata lebih mudah untuk mengawal golo...\n",
       "112616    Puncaknya, JC bertugas menggelar kongres pada ...\n",
       "92963     Dok smo punili krmeno skladište vodom, naš str...\n",
       "196758    Banka však nebije na poplach a argumentuje, že...\n",
       "228974    Iz suhoparne formulacije referendumskega vpraš...\n",
       "45634     Je neuvěřitelné jak si všichni lidi přejí aby ...\n",
       "105098    Terlepas dari siapa yang menyebarkan, yang jel...\n",
       "137007    Но, само еден ден по потпишувањето на меморанд...\n",
       "164622    Unidade Modular do Beira Rio retoma atendiment...\n",
       "114109    Puluhan tenaga bakti Pemadam Kebakaran Krueng ...\n",
       "11564     Уругвайците обаче не само участват, но и отива...\n",
       "32776     Programi za pripremnost u slučaju vanrednih st...\n",
       "10151     Според съобщение на Ройтерс, Лимай е заявил по...\n",
       "188490    Roky trvajúce rokovania na expertnej úrovni o ...\n",
       "98662     FOTO Prometna nesreća u Zadru U petak oko 8.30...\n",
       "139203    Lemak di dalam avokado dipercayai dapat melemb...\n",
       "                                ...                        \n",
       "96013     Terete ga da je 2007. godine od Eduarda Suarez...\n",
       "125873    Владата беше особено задоволна со намалувањето...\n",
       "109436    Dan kemudian, sebelum SSJ 100, adalah Heli Pum...\n",
       "47526     V silniční dopravě u nás podle ministerstva do...\n",
       "20025     Njegov sugrađanin legendarni, Emir Balić je u ...\n",
       "83056     Tras una cena elaborada y servida en la antaño...\n",
       "83068     'Pánico en el túnel' se lleva el primer puesto...\n",
       "199016    Ak prídu domov z práce, tak určite ich prvorad...\n",
       "212429    On je takođe naglasio da njegova administracij...\n",
       "84266     Por supuesto. Yo no quiero que las personas me...\n",
       "192520    Zatiaľ čo doterajšia snaha vlády o minimálne b...\n",
       "123633    Според Кан, истрагата ќе „отвори некои врати, ...\n",
       "68633     La frecuencia es otra de las asignaturas calif...\n",
       "52079     Sábado 7 de enero. Mataron en Hurlingham al pr...\n",
       "74322     «Afortunadamente y gracias a Dios, Severiano e...\n",
       "177765    A taxa a três meses avança 0,005 pontos, para ...\n",
       "8386      Йосипович бе придружаван от президента на РС Р...\n",
       "224501    Čeprav so domači ljubitelji rokometa v premajh...\n",
       "104491    Hingga tahun 2007 ditutup, ternyata masih ada ...\n",
       "83788     El primer eje de la «Acción Joven» incidirá en...\n",
       "116056    Sekitar dua bulan lagi, atau kalau tidak ada p...\n",
       "47608     Tyto úkoly přechází na bedra společnosti IT Pa...\n",
       "119859    Selain Van der Vaart, Schalke disebut sedang m...\n",
       "49223     Některé kanceláře raději volí běžné linky Třeb...\n",
       "60793     En su presente hay bastante de aquel nene en e...\n",
       "149026    Lelaki berusia 27 tahun itu ditahan pada jam 1...\n",
       "16725     После използва връзките си в МВР, за да му орг...\n",
       "95324     2007 O idealiziranom antifašizmu Zahvaljujem g...\n",
       "170044    Miguel Praia gosta particularmente deste traça...\n",
       "78823     A pesar de todo, Basagoiti aseguró en declarac...\n",
       "Name: Scentence, Length: 2600, dtype: object"
      ]
     },
     "execution_count": 128,
     "metadata": {},
     "output_type": "execute_result"
    }
   ],
   "source": [
    "dft_x"
   ]
  },
  {
   "cell_type": "code",
   "execution_count": 129,
   "metadata": {},
   "outputs": [
    {
     "data": {
      "text/plain": [
       "99074        hr\n",
       "155974    pt-BR\n",
       "128712       mk\n",
       "182574    pt-PT\n",
       "59875     es-AR\n",
       "123999       mk\n",
       "170636    pt-PT\n",
       "66511     es-AR\n",
       "10735        bg\n",
       "191349       sk\n",
       "11348        bg\n",
       "173279    pt-PT\n",
       "58923     es-AR\n",
       "165737    pt-BR\n",
       "149757       my\n",
       "112616       id\n",
       "92963        hr\n",
       "196758       sk\n",
       "228974       xx\n",
       "45634        cz\n",
       "105098       id\n",
       "137007       mk\n",
       "164622    pt-BR\n",
       "114109       id\n",
       "11564        bg\n",
       "32776        bs\n",
       "10151        bg\n",
       "188490       sk\n",
       "98662        hr\n",
       "139203       my\n",
       "          ...  \n",
       "96013        hr\n",
       "125873       mk\n",
       "109436       id\n",
       "47526        cz\n",
       "20025        bs\n",
       "83056     es-ES\n",
       "83068     es-ES\n",
       "199016       sk\n",
       "212429       sr\n",
       "84266     es-ES\n",
       "192520       sk\n",
       "123633       mk\n",
       "68633     es-ES\n",
       "52079     es-AR\n",
       "74322     es-ES\n",
       "177765    pt-PT\n",
       "8386         bg\n",
       "224501       xx\n",
       "104491       id\n",
       "83788     es-ES\n",
       "116056       id\n",
       "47608        cz\n",
       "119859       id\n",
       "49223        cz\n",
       "60793     es-AR\n",
       "149026       my\n",
       "16725        bg\n",
       "95324        hr\n",
       "170044    pt-PT\n",
       "78823     es-ES\n",
       "Name: Language, Length: 2600, dtype: object"
      ]
     },
     "execution_count": 129,
     "metadata": {},
     "output_type": "execute_result"
    }
   ],
   "source": [
    "dft_y"
   ]
  },
  {
   "cell_type": "code",
   "execution_count": 130,
   "metadata": {},
   "outputs": [],
   "source": [
    "from sklearn.pipeline import FeatureUnion\n",
    "from sklearn.pipeline import Pipeline\n",
    "from sklearn.decomposition import TruncatedSVD\n",
    "from sklearn.linear_model import LogisticRegression\n",
    "##pipeline = Pipeline([('clf', LinearSVC(random_state=0))])\n",
    "##pipeline.fit(x_train)\n",
    "\n",
    "lrp = Pipeline([\n",
    "    ('vect', CountVectorizer()),\n",
    "    ('svd', TruncatedSVD(n_components=10)),\n",
    "    ##('tfid',TfidfTransformer()),\n",
    "                      ('lr',LogisticRegression())\n",
    "                      ])"
   ]
  },
  {
   "cell_type": "code",
   "execution_count": 131,
   "metadata": {},
   "outputs": [
    {
     "data": {
      "text/plain": [
       "[('vect', CountVectorizer(analyzer='word', binary=False, decode_error='strict',\n",
       "          dtype=<class 'numpy.int64'>, encoding='utf-8', input='content',\n",
       "          lowercase=True, max_df=1.0, max_features=None, min_df=1,\n",
       "          ngram_range=(1, 1), preprocessor=None, stop_words=None,\n",
       "          strip_accents=None, token_pattern='(?u)\\\\b\\\\w\\\\w+\\\\b',\n",
       "          tokenizer=None, vocabulary=None)),\n",
       " ('svd', TruncatedSVD(algorithm='randomized', n_components=10, n_iter=5,\n",
       "         random_state=None, tol=0.0)),\n",
       " ('lr',\n",
       "  LogisticRegression(C=1.0, class_weight=None, dual=False, fit_intercept=True,\n",
       "            intercept_scaling=1, max_iter=100, multi_class='ovr', n_jobs=1,\n",
       "            penalty='l2', random_state=None, solver='liblinear', tol=0.0001,\n",
       "            verbose=0, warm_start=False))]"
      ]
     },
     "execution_count": 131,
     "metadata": {},
     "output_type": "execute_result"
    }
   ],
   "source": [
    "lrp.steps"
   ]
  },
  {
   "cell_type": "code",
   "execution_count": 132,
   "metadata": {},
   "outputs": [],
   "source": [
    "model = lrp.fit(df_x,df_y)"
   ]
  },
  {
   "cell_type": "code",
   "execution_count": 133,
   "metadata": {},
   "outputs": [
    {
     "data": {
      "text/plain": [
       "array(['cz', 'pt-BR', 'mk', ..., 'sk', 'pt-PT', 'es-ES'], dtype=object)"
      ]
     },
     "execution_count": 133,
     "metadata": {},
     "output_type": "execute_result"
    }
   ],
   "source": [
    "model.predict(dft_x)"
   ]
  },
  {
   "cell_type": "code",
   "execution_count": 134,
   "metadata": {},
   "outputs": [],
   "source": [
    "from sklearn.metrics import accuracy_score"
   ]
  },
  {
   "cell_type": "code",
   "execution_count": 135,
   "metadata": {},
   "outputs": [
    {
     "data": {
      "text/plain": [
       "0.5676923076923077"
      ]
     },
     "execution_count": 135,
     "metadata": {},
     "output_type": "execute_result"
    }
   ],
   "source": [
    "accuracy_score(dft_y,lrp.predict(dft_x), normalize=True, sample_weight=None) #logistic"
   ]
  },
  {
   "cell_type": "code",
   "execution_count": 136,
   "metadata": {},
   "outputs": [
    {
     "data": {
      "image/png": "[encoded data removed]",
      "text/plain": [
       "<Figure size 432x288 with 2 Axes>"
      ]
     },
     "metadata": {},
     "output_type": "display_data"
    }
   ],
   "source": [
    "from sklearn.metrics import confusion_matrix\n",
    "cm=confusion_matrix(dft_y,lrp.predict(dft_x)) #logistic\n",
    "fg = plt.figure()\n",
    "axi = fg.add_subplot(111)\n",
    "cx = axi.matshow(cm)\n",
    "plt.title('Logistic Regression')\n",
    "fg.colorbar(cx)\n",
    "#ax.set_xticklabels([''] + labels)\n",
    "#ax.set_yticklabels([''] + labels)\n",
    "#plt.xlabel('Predicted')\n",
    "#plt.ylabel('True')\n",
    "plt.show()"
   ]
  },
  {
   "cell_type": "code",
   "execution_count": 137,
   "metadata": {},
   "outputs": [],
   "source": [
    "from sklearn.pipeline import FeatureUnion\n",
    "from sklearn.pipeline import Pipeline\n",
    "from sklearn.decomposition import TruncatedSVD\n",
    "from sklearn.svm import LinearSVC\n",
    "##pipeline = Pipeline([('clf', LinearSVC(random_state=0))])\n",
    "##pipeline.fit(x_train)\n",
    "\n",
    "lsvc = Pipeline([\n",
    "    ('vect', CountVectorizer()),\n",
    "    ('svd', TruncatedSVD(n_components=10)),\n",
    "    ##('tfid',TfidfTransformer()),\n",
    "                      ('lr',LinearSVC())\n",
    "                      ])"
   ]
  },
  {
   "cell_type": "code",
   "execution_count": 138,
   "metadata": {},
   "outputs": [
    {
     "data": {
      "text/plain": [
       "[('vect', CountVectorizer(analyzer='word', binary=False, decode_error='strict',\n",
       "          dtype=<class 'numpy.int64'>, encoding='utf-8', input='content',\n",
       "          lowercase=True, max_df=1.0, max_features=None, min_df=1,\n",
       "          ngram_range=(1, 1), preprocessor=None, stop_words=None,\n",
       "          strip_accents=None, token_pattern='(?u)\\\\b\\\\w\\\\w+\\\\b',\n",
       "          tokenizer=None, vocabulary=None)),\n",
       " ('svd', TruncatedSVD(algorithm='randomized', n_components=10, n_iter=5,\n",
       "         random_state=None, tol=0.0)),\n",
       " ('lr', LinearSVC(C=1.0, class_weight=None, dual=True, fit_intercept=True,\n",
       "       intercept_scaling=1, loss='squared_hinge', max_iter=1000,\n",
       "       multi_class='ovr', penalty='l2', random_state=None, tol=0.0001,\n",
       "       verbose=0))]"
      ]
     },
     "execution_count": 138,
     "metadata": {},
     "output_type": "execute_result"
    }
   ],
   "source": [
    "lsvc.steps"
   ]
  },
  {
   "cell_type": "code",
   "execution_count": 139,
   "metadata": {},
   "outputs": [],
   "source": [
    "model1 = lsvc.fit(df_x,df_y)"
   ]
  },
  {
   "cell_type": "code",
   "execution_count": 140,
   "metadata": {},
   "outputs": [
    {
     "data": {
      "text/plain": [
       "array(['cz', 'pt-BR', 'mk', ..., 'xx', 'pt-BR', 'es-ES'], dtype=object)"
      ]
     },
     "execution_count": 140,
     "metadata": {},
     "output_type": "execute_result"
    }
   ],
   "source": [
    "model1.predict(dft_x)"
   ]
  },
  {
   "cell_type": "code",
   "execution_count": 141,
   "metadata": {},
   "outputs": [
    {
     "data": {
      "text/plain": [
       "0.5746153846153846"
      ]
     },
     "execution_count": 141,
     "metadata": {},
     "output_type": "execute_result"
    }
   ],
   "source": [
    "accuracy_score(dft_y,lsvc.predict(dft_x), normalize=True, sample_weight=None) #svc"
   ]
  },
  {
   "cell_type": "code",
   "execution_count": 142,
   "metadata": {},
   "outputs": [
    {
     "data": {
      "image/png": "[encoded data removed]",
      "text/plain": [
       "<Figure size 432x288 with 2 Axes>"
      ]
     },
     "metadata": {},
     "output_type": "display_data"
    }
   ],
   "source": [
    "cm1=confusion_matrix(dft_y,lsvc.predict(dft_x)) #logistic\n",
    "fg = plt.figure()\n",
    "axi = fg.add_subplot(111)\n",
    "cx = axi.matshow(cm1)\n",
    "plt.title('Linear SVC')\n",
    "fg.colorbar(cx)\n",
    "#ax.set_xticklabels([''] + labels)\n",
    "#ax.set_yticklabels([''] + labels)\n",
    "#plt.xlabel('Predicted')\n",
    "#plt.ylabel('True')\n",
    "plt.show()"
   ]
  },
  {
   "cell_type": "code",
   "execution_count": 143,
   "metadata": {},
   "outputs": [],
   "source": [
    "from sklearn.pipeline import FeatureUnion\n",
    "from sklearn.pipeline import Pipeline\n",
    "from sklearn.decomposition import TruncatedSVD\n",
    "from sklearn.naive_bayes import MultinomialNB\n",
    "##pipeline = Pipeline([('clf', LinearSVC(random_state=0))])\n",
    "##pipeline.fit(x_train)\n",
    "\n",
    "mnb = Pipeline([\n",
    "    ('vect', CountVectorizer()),\n",
    "    ('svd', SelectKBest()),\n",
    "    ##('tfid',TfidfTransformer()),\n",
    "                      ('mnb',MultinomialNB())\n",
    "                      ])"
   ]
  },
  {
   "cell_type": "code",
   "execution_count": 144,
   "metadata": {},
   "outputs": [
    {
     "data": {
      "text/plain": [
       "[('vect', CountVectorizer(analyzer='word', binary=False, decode_error='strict',\n",
       "          dtype=<class 'numpy.int64'>, encoding='utf-8', input='content',\n",
       "          lowercase=True, max_df=1.0, max_features=None, min_df=1,\n",
       "          ngram_range=(1, 1), preprocessor=None, stop_words=None,\n",
       "          strip_accents=None, token_pattern='(?u)\\\\b\\\\w\\\\w+\\\\b',\n",
       "          tokenizer=None, vocabulary=None)),\n",
       " ('svd',\n",
       "  SelectKBest(k=10, score_func=<function f_classif at 0x000001E1082B81E0>)),\n",
       " ('mnb', MultinomialNB(alpha=1.0, class_prior=None, fit_prior=True))]"
      ]
     },
     "execution_count": 144,
     "metadata": {},
     "output_type": "execute_result"
    }
   ],
   "source": [
    "mnb.steps"
   ]
  },
  {
   "cell_type": "code",
   "execution_count": 145,
   "metadata": {},
   "outputs": [],
   "source": [
    "model2 = mnb.fit(df_x,df_y)"
   ]
  },
  {
   "cell_type": "code",
   "execution_count": 146,
   "metadata": {},
   "outputs": [
    {
     "data": {
      "text/plain": [
       "array(['bs', 'pt-BR', 'bs', ..., 'bs', 'pt-BR', 'es-ES'], dtype='<U5')"
      ]
     },
     "execution_count": 146,
     "metadata": {},
     "output_type": "execute_result"
    }
   ],
   "source": [
    "model2.predict(dft_x)"
   ]
  },
  {
   "cell_type": "code",
   "execution_count": 147,
   "metadata": {},
   "outputs": [
    {
     "data": {
      "text/plain": [
       "0.2684615384615385"
      ]
     },
     "execution_count": 147,
     "metadata": {},
     "output_type": "execute_result"
    }
   ],
   "source": [
    "accuracy_score(dft_y,mnb.predict(dft_x), normalize=True, sample_weight=None) #mnb"
   ]
  },
  {
   "cell_type": "code",
   "execution_count": 148,
   "metadata": {},
   "outputs": [
    {
     "data": {
      "image/png": "[encoded data removed]",
      "text/plain": [
       "<Figure size 432x288 with 2 Axes>"
      ]
     },
     "metadata": {},
     "output_type": "display_data"
    }
   ],
   "source": [
    "cm2=confusion_matrix(dft_y,mnb.predict(dft_x)) #logistic\n",
    "fg = plt.figure()\n",
    "axi = fg.add_subplot(111)\n",
    "cx = axi.matshow(cm2)\n",
    "plt.title('Mutlinomial MNB')\n",
    "fg.colorbar(cx)\n",
    "#ax.set_xticklabels([''] + labels)\n",
    "#ax.set_yticklabels([''] + labels)\n",
    "#plt.xlabel('Predicted')\n",
    "#plt.ylabel('True')\n",
    "plt.show()"
   ]
  },
  {
   "cell_type": "code",
   "execution_count": 149,
   "metadata": {},
   "outputs": [],
   "source": [
    "from sklearn.pipeline import FeatureUnion\n",
    "from sklearn.pipeline import Pipeline\n",
    "from sklearn.decomposition import TruncatedSVD\n",
    "from sklearn.naive_bayes import BernoulliNB\n",
    "##pipeline = Pipeline([('clf', LinearSVC(random_state=0))])\n",
    "##pipeline.fit(x_train)\n",
    "\n",
    "bnb= Pipeline([\n",
    "    ('vect', CountVectorizer()),\n",
    "    ('svd', TruncatedSVD(n_components=10)),\n",
    "    ##('tfid',TfidfTransformer()),\n",
    "                      ('mnb',BernoulliNB())\n",
    "                      ]) #bnb"
   ]
  },
  {
   "cell_type": "code",
   "execution_count": 150,
   "metadata": {},
   "outputs": [
    {
     "data": {
      "text/plain": [
       "[('vect', CountVectorizer(analyzer='word', binary=False, decode_error='strict',\n",
       "          dtype=<class 'numpy.int64'>, encoding='utf-8', input='content',\n",
       "          lowercase=True, max_df=1.0, max_features=None, min_df=1,\n",
       "          ngram_range=(1, 1), preprocessor=None, stop_words=None,\n",
       "          strip_accents=None, token_pattern='(?u)\\\\b\\\\w\\\\w+\\\\b',\n",
       "          tokenizer=None, vocabulary=None)),\n",
       " ('svd', TruncatedSVD(algorithm='randomized', n_components=10, n_iter=5,\n",
       "         random_state=None, tol=0.0)),\n",
       " ('mnb',\n",
       "  BernoulliNB(alpha=1.0, binarize=0.0, class_prior=None, fit_prior=True))]"
      ]
     },
     "execution_count": 150,
     "metadata": {},
     "output_type": "execute_result"
    }
   ],
   "source": [
    "bnb.steps"
   ]
  },
  {
   "cell_type": "code",
   "execution_count": 151,
   "metadata": {},
   "outputs": [],
   "source": [
    "model3 = bnb.fit(df_x,df_y)"
   ]
  },
  {
   "cell_type": "code",
   "execution_count": 152,
   "metadata": {},
   "outputs": [
    {
     "data": {
      "text/plain": [
       "array(['cz', 'pt-BR', 'bg', ..., 'sk', 'pt-BR', 'es-ES'], dtype='<U5')"
      ]
     },
     "execution_count": 152,
     "metadata": {},
     "output_type": "execute_result"
    }
   ],
   "source": [
    "model3.predict(dft_x)"
   ]
  },
  {
   "cell_type": "code",
   "execution_count": 153,
   "metadata": {},
   "outputs": [
    {
     "data": {
      "text/plain": [
       "0.4765384615384615"
      ]
     },
     "execution_count": 153,
     "metadata": {},
     "output_type": "execute_result"
    }
   ],
   "source": [
    "accuracy_score(dft_y,bnb.predict(dft_x), normalize=True, sample_weight=None) #bnb"
   ]
  },
  {
   "cell_type": "code",
   "execution_count": 154,
   "metadata": {},
   "outputs": [
    {
     "data": {
      "image/png": "[encoded data removed]",
      "text/plain": [
       "<Figure size 432x288 with 2 Axes>"
      ]
     },
     "metadata": {},
     "output_type": "display_data"
    }
   ],
   "source": [
    "cm3=confusion_matrix(dft_y,bnb.predict(dft_x)) #logistic\n",
    "fg = plt.figure()\n",
    "axi = fg.add_subplot(111)\n",
    "cx = axi.matshow(cm3)\n",
    "plt.title('Burnoulli NB')\n",
    "fg.colorbar(cx)\n",
    "#ax.set_xticklabels([''] + labels)\n",
    "#ax.set_yticklabels([''] + labels)\n",
    "#plt.xlabel('Predicted')\n",
    "#plt.ylabel('True')\n",
    "plt.show()"
   ]
  },
  {
   "cell_type": "code",
   "execution_count": 155,
   "metadata": {},
   "outputs": [],
   "source": [
    "from sklearn.tree import DecisionTreeClassifier\n",
    "dtc= Pipeline([\n",
    "    ('vect', CountVectorizer()),\n",
    "    ('svd', TruncatedSVD(n_components=10)),\n",
    "    ##('tfid',TfidfTransformer()),\n",
    "                      ('dtc', DecisionTreeClassifier())\n",
    "                      ])"
   ]
  },
  {
   "cell_type": "code",
   "execution_count": 156,
   "metadata": {},
   "outputs": [
    {
     "data": {
      "text/plain": [
       "[('vect', CountVectorizer(analyzer='word', binary=False, decode_error='strict',\n",
       "          dtype=<class 'numpy.int64'>, encoding='utf-8', input='content',\n",
       "          lowercase=True, max_df=1.0, max_features=None, min_df=1,\n",
       "          ngram_range=(1, 1), preprocessor=None, stop_words=None,\n",
       "          strip_accents=None, token_pattern='(?u)\\\\b\\\\w\\\\w+\\\\b',\n",
       "          tokenizer=None, vocabulary=None)),\n",
       " ('svd', TruncatedSVD(algorithm='randomized', n_components=10, n_iter=5,\n",
       "         random_state=None, tol=0.0)),\n",
       " ('dtc',\n",
       "  DecisionTreeClassifier(class_weight=None, criterion='gini', max_depth=None,\n",
       "              max_features=None, max_leaf_nodes=None,\n",
       "              min_impurity_decrease=0.0, min_impurity_split=None,\n",
       "              min_samples_leaf=1, min_samples_split=2,\n",
       "              min_weight_fraction_leaf=0.0, presort=False, random_state=None,\n",
       "              splitter='best'))]"
      ]
     },
     "execution_count": 156,
     "metadata": {},
     "output_type": "execute_result"
    }
   ],
   "source": [
    "dtc.steps"
   ]
  },
  {
   "cell_type": "code",
   "execution_count": 157,
   "metadata": {},
   "outputs": [],
   "source": [
    "model4 = dtc.fit(df_x,df_y)"
   ]
  },
  {
   "cell_type": "code",
   "execution_count": 158,
   "metadata": {},
   "outputs": [
    {
     "data": {
      "text/plain": [
       "array(['hr', 'pt-BR', 'mk', ..., 'hr', 'pt-PT', 'es-ES'], dtype=object)"
      ]
     },
     "execution_count": 158,
     "metadata": {},
     "output_type": "execute_result"
    }
   ],
   "source": [
    "model4.predict(dft_x)"
   ]
  },
  {
   "cell_type": "code",
   "execution_count": 159,
   "metadata": {},
   "outputs": [
    {
     "data": {
      "text/plain": [
       "1.0"
      ]
     },
     "execution_count": 159,
     "metadata": {},
     "output_type": "execute_result"
    }
   ],
   "source": [
    "accuracy_score(dft_y,dtc.predict(dft_x), normalize=True, sample_weight=None) "
   ]
  },
  {
   "cell_type": "code",
   "execution_count": 160,
   "metadata": {},
   "outputs": [
    {
     "data": {
      "image/png": "[encoded data removed]",
      "text/plain": [
       "<Figure size 432x288 with 2 Axes>"
      ]
     },
     "metadata": {},
     "output_type": "display_data"
    }
   ],
   "source": [
    "cm4=confusion_matrix(dft_y,dtc.predict(dft_x)) #logistic\n",
    "fg = plt.figure()\n",
    "axi = fg.add_subplot(111)\n",
    "cx = axi.matshow(cm4)\n",
    "plt.title('Decision Tree Classifier')\n",
    "fg.colorbar(cx)\n",
    "#ax.set_xticklabels([''] + labels)\n",
    "#ax.set_yticklabels([''] + labels)\n",
    "#plt.xlabel('Predicted')\n",
    "#plt.ylabel('True')\n",
    "plt.show()"
   ]
  },
  {
   "cell_type": "code",
   "execution_count": null,
   "metadata": {},
   "outputs": [],
   "source": []
  }
 ],
 "metadata": {
  "kernelspec": {
   "display_name": "Python 3",
   "language": "python",
   "name": "python3"
  },
  "language_info": {
   "codemirror_mode": {
    "name": "ipython",
    "version": 3
   },
   "file_extension": ".py",
   "mimetype": "text/x-python",
   "name": "python",
   "nbconvert_exporter": "python",
   "pygments_lexer": "ipython3",
   "version": "3.6.5"
  }
 },
 "nbformat": 4,
 "nbformat_minor": 2
}
